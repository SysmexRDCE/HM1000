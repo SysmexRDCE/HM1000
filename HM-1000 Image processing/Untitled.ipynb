{
 "cells": [
  {
   "cell_type": "code",
   "execution_count": 9,
   "id": "e44941fa",
   "metadata": {},
   "outputs": [
    {
     "name": "stderr",
     "output_type": "stream",
     "text": [
      "Local path given is not a directory: /Applications/Fiji\n"
     ]
    },
    {
     "ename": "AttributeError",
     "evalue": "'bool' object has no attribute 'py'",
     "output_type": "error",
     "traceback": [
      "\u001b[0;31m---------------------------------------------------------------------------\u001b[0m",
      "\u001b[0;31mAttributeError\u001b[0m                            Traceback (most recent call last)",
      "\u001b[0;32m/var/folders/7k/hxwr45x52r3_k9xkt0dbprsh0000gn/T/ipykernel_16621/293447166.py\u001b[0m in \u001b[0;36m<module>\u001b[0;34m\u001b[0m\n\u001b[1;32m     27\u001b[0m \u001b[0msub5000\u001b[0m \u001b[0;34m=\u001b[0m \u001b[0mdf1\u001b[0m\u001b[0;34m[\u001b[0m\u001b[0;34m'Mean'\u001b[0m\u001b[0;34m]\u001b[0m\u001b[0;34m[\u001b[0m\u001b[0;36m5\u001b[0m\u001b[0;34m]\u001b[0m\u001b[0;34m*\u001b[0m\u001b[0;36m10\u001b[0m\u001b[0;34m\u001b[0m\u001b[0;34m\u001b[0m\u001b[0m\n\u001b[1;32m     28\u001b[0m \u001b[0mmacro2\u001b[0m\u001b[0;34m=\u001b[0m\u001b[0;34mf'''open(\"/{pwd}/input/{selectedtiff}\");'''\u001b[0m\u001b[0;34m\u001b[0m\u001b[0;34m\u001b[0m\u001b[0m\n\u001b[0;32m---> 29\u001b[0;31m \u001b[0mIJ\u001b[0m\u001b[0;34m.\u001b[0m\u001b[0mpy\u001b[0m\u001b[0;34m.\u001b[0m\u001b[0mrun_macro\u001b[0m\u001b[0;34m(\u001b[0m\u001b[0mmacro2\u001b[0m\u001b[0;34m)\u001b[0m\u001b[0;34m\u001b[0m\u001b[0;34m\u001b[0m\u001b[0m\n\u001b[0m\u001b[1;32m     30\u001b[0m \u001b[0;32mfor\u001b[0m \u001b[0msub\u001b[0m\u001b[0;34m,\u001b[0m\u001b[0mi\u001b[0m \u001b[0;32min\u001b[0m \u001b[0mzip\u001b[0m\u001b[0;34m(\u001b[0m\u001b[0;34m[\u001b[0m\u001b[0msub1\u001b[0m\u001b[0;34m,\u001b[0m\u001b[0msub1000\u001b[0m\u001b[0;34m,\u001b[0m\u001b[0msub2000\u001b[0m\u001b[0;34m,\u001b[0m\u001b[0msub3000\u001b[0m\u001b[0;34m,\u001b[0m\u001b[0msub4000\u001b[0m\u001b[0;34m,\u001b[0m\u001b[0msub5000\u001b[0m\u001b[0;34m]\u001b[0m\u001b[0;34m,\u001b[0m\u001b[0;34m[\u001b[0m\u001b[0;36m1\u001b[0m\u001b[0;34m,\u001b[0m\u001b[0;36m1000\u001b[0m\u001b[0;34m,\u001b[0m\u001b[0;36m2000\u001b[0m\u001b[0;34m,\u001b[0m\u001b[0;36m3000\u001b[0m\u001b[0;34m,\u001b[0m\u001b[0;36m4000\u001b[0m\u001b[0;34m,\u001b[0m\u001b[0;36m5000\u001b[0m\u001b[0;34m]\u001b[0m\u001b[0;34m)\u001b[0m\u001b[0;34m:\u001b[0m\u001b[0;34m\u001b[0m\u001b[0;34m\u001b[0m\u001b[0m\n\u001b[1;32m     31\u001b[0m     macro1=f'''\n",
      "\u001b[0;31mAttributeError\u001b[0m: 'bool' object has no attribute 'py'"
     ]
    }
   ],
   "source": [
    "\n",
    "from PIL import Image\n",
    "import imagej\n",
    "import os\n",
    "import pickle\n",
    "import pandas as pd\n",
    "pwd = os.getcwd()\n",
    "pickle_in = open(f'{pwd}/name_of_tiff_file.pkl', 'rb')\n",
    "selectedtiff = pickle.load(pickle_in)\n",
    "pickle_in=open(f'{pwd}/subtract_range.pkl','rb')\n",
    "sub_range=pickle.load(pickle_in)\n",
    "\n",
    "mypath = pwd + '/input'\n",
    "import imagej\n",
    "from os import listdir\n",
    "from os.path import isfile, join\n",
    "\n",
    "\n",
    "onlyfiles = [f for f in listdir(mypath) if isfile(join(mypath, f))]\n",
    "IJ = imagej.init('/Applications/Fiji')\n",
    "df1=pd.read_csv('./output_jpeg/Results1.csv')\n",
    "\n",
    "sub1 = df1['Mean'][0]\n",
    "sub1000 = df1['Mean'][1]*10\n",
    "sub2000 = df1['Mean'][2]*10\n",
    "sub3000 = df1['Mean'][3]*10\n",
    "sub4000 = df1['Mean'][4]*10\n",
    "sub5000 = df1['Mean'][5]*10\n",
    "macro2=f'''open(\"/{pwd}/input/{selectedtiff}\");'''\n",
    "IJ.py.run_macro(macro2)\n",
    "for sub,i in zip([sub1,sub1000,sub2000,sub3000,sub4000,sub5000],[1,1000,2000,3000,4000,5000]):\n",
    "    macro1=f'''\n",
    "run(\"Duplicate...\", \"duplicate range={i}-{i}\");\n",
    "run(\"3-3-2 RGB\");    \n",
    "run(\"Subtract Background...\", \"rolling=5\");\n",
    "run(\"Subtract...\", \"value={sub}\");\n",
    "saveAs(\"PNG\", \"/Users/macbookpro/PycharmProjects/pyimagej/output_jpeg/image{i}.png\");\n",
    "close();\n",
    "'''\n",
    "    IJ.py.run_macro(macro1)"
   ]
  },
  {
   "cell_type": "code",
   "execution_count": 2,
   "id": "bd6a0b3d",
   "metadata": {},
   "outputs": [],
   "source": [
    "df=pd.read_csv('./output_jpeg/results1.csv')"
   ]
  },
  {
   "cell_type": "code",
   "execution_count": 3,
   "id": "a083aa77",
   "metadata": {},
   "outputs": [
    {
     "data": {
      "text/html": [
       "<div>\n",
       "<style scoped>\n",
       "    .dataframe tbody tr th:only-of-type {\n",
       "        vertical-align: middle;\n",
       "    }\n",
       "\n",
       "    .dataframe tbody tr th {\n",
       "        vertical-align: top;\n",
       "    }\n",
       "\n",
       "    .dataframe thead th {\n",
       "        text-align: right;\n",
       "    }\n",
       "</style>\n",
       "<table border=\"1\" class=\"dataframe\">\n",
       "  <thead>\n",
       "    <tr style=\"text-align: right;\">\n",
       "      <th></th>\n",
       "      <th></th>\n",
       "      <th>Area</th>\n",
       "      <th>Mean</th>\n",
       "      <th>Min</th>\n",
       "      <th>Max</th>\n",
       "    </tr>\n",
       "  </thead>\n",
       "  <tbody>\n",
       "    <tr>\n",
       "      <th>0</th>\n",
       "      <td>1</td>\n",
       "      <td>5.247</td>\n",
       "      <td>21.326</td>\n",
       "      <td>0</td>\n",
       "      <td>3978</td>\n",
       "    </tr>\n",
       "    <tr>\n",
       "      <th>1</th>\n",
       "      <td>2</td>\n",
       "      <td>5.247</td>\n",
       "      <td>19.868</td>\n",
       "      <td>0</td>\n",
       "      <td>3861</td>\n",
       "    </tr>\n",
       "    <tr>\n",
       "      <th>2</th>\n",
       "      <td>3</td>\n",
       "      <td>5.247</td>\n",
       "      <td>19.184</td>\n",
       "      <td>0</td>\n",
       "      <td>3402</td>\n",
       "    </tr>\n",
       "    <tr>\n",
       "      <th>3</th>\n",
       "      <td>4</td>\n",
       "      <td>5.247</td>\n",
       "      <td>18.808</td>\n",
       "      <td>0</td>\n",
       "      <td>3674</td>\n",
       "    </tr>\n",
       "    <tr>\n",
       "      <th>4</th>\n",
       "      <td>5</td>\n",
       "      <td>5.247</td>\n",
       "      <td>18.350</td>\n",
       "      <td>0</td>\n",
       "      <td>3476</td>\n",
       "    </tr>\n",
       "    <tr>\n",
       "      <th>5</th>\n",
       "      <td>6</td>\n",
       "      <td>5.247</td>\n",
       "      <td>17.966</td>\n",
       "      <td>0</td>\n",
       "      <td>3435</td>\n",
       "    </tr>\n",
       "  </tbody>\n",
       "</table>\n",
       "</div>"
      ],
      "text/plain": [
       "       Area    Mean  Min   Max\n",
       "0  1  5.247  21.326    0  3978\n",
       "1  2  5.247  19.868    0  3861\n",
       "2  3  5.247  19.184    0  3402\n",
       "3  4  5.247  18.808    0  3674\n",
       "4  5  5.247  18.350    0  3476\n",
       "5  6  5.247  17.966    0  3435"
      ]
     },
     "execution_count": 3,
     "metadata": {},
     "output_type": "execute_result"
    }
   ],
   "source": [
    "df"
   ]
  },
  {
   "cell_type": "code",
   "execution_count": 4,
   "id": "e577cb57",
   "metadata": {},
   "outputs": [],
   "source": [
    "df=pd.read_csv('./output_jpeg/results1000.csv')"
   ]
  },
  {
   "cell_type": "code",
   "execution_count": 8,
   "id": "91a4927c",
   "metadata": {},
   "outputs": [
    {
     "data": {
      "text/plain": [
       "213.26"
      ]
     },
     "execution_count": 8,
     "metadata": {},
     "output_type": "execute_result"
    }
   ],
   "source": [
    "df['Mean'][0]*10"
   ]
  },
  {
   "cell_type": "code",
   "execution_count": null,
   "id": "4fe37d4a",
   "metadata": {},
   "outputs": [],
   "source": []
  }
 ],
 "metadata": {
  "kernelspec": {
   "display_name": "Python 3 (ipykernel)",
   "language": "python",
   "name": "python3"
  },
  "language_info": {
   "codemirror_mode": {
    "name": "ipython",
    "version": 3
   },
   "file_extension": ".py",
   "mimetype": "text/x-python",
   "name": "python",
   "nbconvert_exporter": "python",
   "pygments_lexer": "ipython3",
   "version": "3.8.10"
  }
 },
 "nbformat": 4,
 "nbformat_minor": 5
}
