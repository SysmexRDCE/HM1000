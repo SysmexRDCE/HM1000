{
 "cells": [
  {
   "cell_type": "code",
   "execution_count": 4,
   "id": "c7bc3a09",
   "metadata": {},
   "outputs": [],
   "source": [
    "\n",
    "import base64\n",
    "import imagej\n",
    "from PIL import Image\n",
    "import streamlit as st\n",
    "import pickle\n",
    "def pickle_all(key, value):\n",
    "    pickle_out = open(key + \".pkl\", \"wb\")\n",
    "    pickle.dump(value, pickle_out)\n",
    "    pickle_out.close()\n",
    "import os\n",
    "\n",
    "pwd = os.getcwd()\n",
    "\n",
    "mypath = pwd + '/input'\n",
    "\n",
    "from os import listdir\n",
    "from os.path import isfile, join\n",
    "\n",
    "\n",
    "onlyfiles = [f for f in listdir(mypath) if isfile(join(mypath, f))]"
   ]
  },
  {
   "cell_type": "code",
   "execution_count": 5,
   "id": "6e37b9e9",
   "metadata": {},
   "outputs": [
    {
     "data": {
      "text/plain": [
       "['.DS_Store',\n",
       " '2-488_pos.tif',\n",
       " 'yeniyontem210915103647_6NEG_SR_561_6NEG-003.tif',\n",
       " 'rolling_ball.jpg',\n",
       " 'Normalized_Gaussia.jpg',\n",
       " 'thresholding.jpg',\n",
       " '2-561_pos.tif',\n",
       " '488_Normalized_Gaussian_ikinciyontem.jpg',\n",
       " 'yeniyontem210915103647_6NEG_SR_488_6NEG-003.tif',\n",
       " 'unclean_image.jpg']"
      ]
     },
     "execution_count": 5,
     "metadata": {},
     "output_type": "execute_result"
    }
   ],
   "source": [
    "onlyfiles"
   ]
  },
  {
   "cell_type": "code",
   "execution_count": null,
   "id": "f9834514",
   "metadata": {},
   "outputs": [],
   "source": []
  }
 ],
 "metadata": {
  "kernelspec": {
   "display_name": "Python 3 (ipykernel)",
   "language": "python",
   "name": "python3"
  },
  "language_info": {
   "codemirror_mode": {
    "name": "ipython",
    "version": 3
   },
   "file_extension": ".py",
   "mimetype": "text/x-python",
   "name": "python",
   "nbconvert_exporter": "python",
   "pygments_lexer": "ipython3",
   "version": "3.8.10"
  }
 },
 "nbformat": 4,
 "nbformat_minor": 5
}
