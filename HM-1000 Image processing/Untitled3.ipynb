{
 "cells": [
  {
   "cell_type": "code",
   "execution_count": null,
   "id": "aa688ea7",
   "metadata": {},
   "outputs": [],
   "source": [
    "project_name={'03_01_Cikis_Konveyor_Motoru_v01':'https://gitlab.com/marketintech/03_01_cikis_konveyor_motoru_v01.git',\n",
    "             '03_01_Ana_Motor_v01':'https://gitlab.com/marketintech/03_01_ana_motor_v01.git',\n",
    "              '03_01_Coil_Car_Motoru_v01':'https://gitlab.com/marketintech/03_01_coil_car_motoru_v01.git',\n",
    "              '03_01_Coil_Line_Hidrolik_Motoru_v01':'https://gitlab.com/marketintech/03_01_coil_line_hidrolik_motoru_v01.git',\n",
    "              '03_01_Duzeltici_Malzeme_Besleme_Motoru_v01':'https://gitlab.com/marketintech/03_01_duzeltici_malzeme_besleme_motoru_v01.git',\n",
    "              '03_01_Duzeltici_Motoru1_v01':'https://gitlab.com/marketintech/03_01_duzeltici_motoru1_v01.git',\n",
    "              '03_01_Duzeltici_Motoru2_v01':'https://gitlab.com/marketintech/03_01_duzeltici_motoru2_v01.git',\n",
    "              '03_01_Halka_Tezgahi_Motoru_v01':'https://gitlab.com/marketintech/03_01_halka_tezgahi_motoru_v01.git',\n",
    "              '03_01_Mandren_Motoru_v01':'https://gitlab.com/marketintech/03_01_mandren_motoru_v01.git',\n",
    "              '03_01_Roll_Feeder_Motoru_v01':'https://gitlab.com/marketintech/03_01_roll_feeder_motoru_v01.git',\n",
    "              '03_01_Slide_Ayar_Motoru_v01':'https://gitlab.com/marketintech/03_01_slide_ayar_motoru_v01.git',\n",
    "              '03_01_Yaglama_Motoru_v01':'https://gitlab.com/marketintech/03_01_yaglama_motoru_v01.git'\n",
    "              }\n",
    "import os\n",
    "for key,value in  project_name.items():\n",
    "    os.system(f'git clone {value}')\n",
    "    os.system(f'cd {key})\n",
    "    os.system(f'git init && git add remote {value}')\n",
    "    os.system(f'cd ..)"
   ]
  },
  {
   "cell_type": "code",
   "execution_count": null,
   "id": "43204583",
   "metadata": {},
   "outputs": [],
   "source": []
  }
 ],
 "metadata": {
  "kernelspec": {
   "display_name": "Python 3 (ipykernel)",
   "language": "python",
   "name": "python3"
  },
  "language_info": {
   "codemirror_mode": {
    "name": "ipython",
    "version": 3
   },
   "file_extension": ".py",
   "mimetype": "text/x-python",
   "name": "python",
   "nbconvert_exporter": "python",
   "pygments_lexer": "ipython3",
   "version": "3.8.10"
  }
 },
 "nbformat": 4,
 "nbformat_minor": 5
}
